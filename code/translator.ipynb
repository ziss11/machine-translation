{
  "cells": [
    {
      "cell_type": "markdown",
      "source": [
        "# **Machine Translation Model**"
      ],
      "metadata": {
        "id": "FXhimN1gKZzg"
      }
    },
    {
      "cell_type": "code",
      "execution_count": 1,
      "metadata": {
        "id": "56aTseK4q9ol",
        "cellView": "form"
      },
      "outputs": [],
      "source": [
        "#@title Load Imports\n",
        "\n",
        "import tensorflow as tf\n",
        "import keras\n",
        "import subprocess\n",
        "import os\n",
        "import pandas as pd\n",
        "import random\n",
        "import shutil\n",
        "import numpy as np\n",
        "import json\n",
        "import re\n",
        "import pathlib\n",
        "\n",
        "from google.colab import drive, files #if use colab\n",
        "from tensorflow.nn import relu, tanh, softmax\n",
        "from tensorflow.lite.python import interpreter\n",
        "from keras import layers\n",
        "from keras.models import Model\n",
        "from keras.preprocessing.text import tokenizer_from_json\n",
        "from keras.preprocessing.text import Tokenizer\n",
        "from keras.preprocessing.sequence import pad_sequences"
      ]
    },
    {
      "cell_type": "code",
      "execution_count": 2,
      "metadata": {
        "id": "tz4aY7oDbyeg",
        "colab": {
          "base_uri": "https://localhost:8080/"
        },
        "outputId": "bb84a9ef-79b5-4f99-d1dc-fd553e365f15",
        "cellView": "form"
      },
      "outputs": [
        {
          "output_type": "stream",
          "name": "stdout",
          "text": [
            "Mounted at /content/drive\n"
          ]
        }
      ],
      "source": [
        "#@title Connect with Google Drive\n",
        "drive.mount('/content/drive')"
      ]
    },
    {
      "cell_type": "code",
      "execution_count": 3,
      "metadata": {
        "id": "2ZtMplOQv6Lz",
        "cellView": "form"
      },
      "outputs": [],
      "source": [
        "#@title Git Clone\n",
        "git_dir = '/content/IOH-Chat-App'\n",
        "git_url = 'https://github.com/bangkit-team/IOH-chat-app.git'\n",
        "\n",
        "if not os.path.exists(git_dir):\n",
        "  subprocess.call(['git', 'clone', git_url])"
      ]
    },
    {
      "cell_type": "code",
      "execution_count": 4,
      "metadata": {
        "id": "pN2M4PirLEQB"
      },
      "outputs": [],
      "source": [
        "filedir1 = '/content/IOH-chat-app/MachineLearning/datasets/translation/result/eng-ind.csv'\n",
        "filedir2 = '/content/IOH-chat-app/MachineLearning/datasets/spam/emails.csv'"
      ]
    },
    {
      "cell_type": "code",
      "execution_count": 5,
      "metadata": {
        "id": "CTSHYGqdTyPk",
        "colab": {
          "base_uri": "https://localhost:8080/",
          "height": 424
        },
        "outputId": "9e3f9e6f-3a2a-4870-8a20-81a0bd607d6e"
      },
      "outputs": [
        {
          "output_type": "execute_result",
          "data": {
            "text/plain": [
              "                                                 English  \\\n",
              "0                                                   Run!   \n",
              "1                                                   Who?   \n",
              "2                                                   Wow!   \n",
              "3                                                  Help!   \n",
              "4                                                  Jump!   \n",
              "...                                                  ...   \n",
              "15359  Limitation of this capability causes opportuni...   \n",
              "15360  Subjective approach evaluates poverty based on...   \n",
              "15361  Limited sufficiency and food quality , seen fr...   \n",
              "15362  Around 20 percents people with the lowest inco...   \n",
              "15363  Deficiency of calory intake , namely less than...   \n",
              "\n",
              "                                               Indonesia  \n",
              "0                                                  Lari!  \n",
              "1                                                 Siapa?  \n",
              "2                                                   Wow!  \n",
              "3                                                Tolong!  \n",
              "4                                                Lompat!  \n",
              "...                                                  ...  \n",
              "15359  Keterbatasan kemampuan ini menyebabkan tertutu...  \n",
              "15360  Pendekatan subyektif menilai kemiskinan berdas...  \n",
              "15361  terbatasnya kecukupan dan mutu pangan , diliha...  \n",
              "15362  Sekitar 20 persen penduduk dengan tingkat pend...  \n",
              "15363  Kekurangan asupan kalori , yaitu kurang dari 2...  \n",
              "\n",
              "[15364 rows x 2 columns]"
            ],
            "text/html": [
              "\n",
              "  <div id=\"df-e5098ca4-8bff-4750-b998-f5aa2365e6f9\">\n",
              "    <div class=\"colab-df-container\">\n",
              "      <div>\n",
              "<style scoped>\n",
              "    .dataframe tbody tr th:only-of-type {\n",
              "        vertical-align: middle;\n",
              "    }\n",
              "\n",
              "    .dataframe tbody tr th {\n",
              "        vertical-align: top;\n",
              "    }\n",
              "\n",
              "    .dataframe thead th {\n",
              "        text-align: right;\n",
              "    }\n",
              "</style>\n",
              "<table border=\"1\" class=\"dataframe\">\n",
              "  <thead>\n",
              "    <tr style=\"text-align: right;\">\n",
              "      <th></th>\n",
              "      <th>English</th>\n",
              "      <th>Indonesia</th>\n",
              "    </tr>\n",
              "  </thead>\n",
              "  <tbody>\n",
              "    <tr>\n",
              "      <th>0</th>\n",
              "      <td>Run!</td>\n",
              "      <td>Lari!</td>\n",
              "    </tr>\n",
              "    <tr>\n",
              "      <th>1</th>\n",
              "      <td>Who?</td>\n",
              "      <td>Siapa?</td>\n",
              "    </tr>\n",
              "    <tr>\n",
              "      <th>2</th>\n",
              "      <td>Wow!</td>\n",
              "      <td>Wow!</td>\n",
              "    </tr>\n",
              "    <tr>\n",
              "      <th>3</th>\n",
              "      <td>Help!</td>\n",
              "      <td>Tolong!</td>\n",
              "    </tr>\n",
              "    <tr>\n",
              "      <th>4</th>\n",
              "      <td>Jump!</td>\n",
              "      <td>Lompat!</td>\n",
              "    </tr>\n",
              "    <tr>\n",
              "      <th>...</th>\n",
              "      <td>...</td>\n",
              "      <td>...</td>\n",
              "    </tr>\n",
              "    <tr>\n",
              "      <th>15359</th>\n",
              "      <td>Limitation of this capability causes opportuni...</td>\n",
              "      <td>Keterbatasan kemampuan ini menyebabkan tertutu...</td>\n",
              "    </tr>\n",
              "    <tr>\n",
              "      <th>15360</th>\n",
              "      <td>Subjective approach evaluates poverty based on...</td>\n",
              "      <td>Pendekatan subyektif menilai kemiskinan berdas...</td>\n",
              "    </tr>\n",
              "    <tr>\n",
              "      <th>15361</th>\n",
              "      <td>Limited sufficiency and food quality , seen fr...</td>\n",
              "      <td>terbatasnya kecukupan dan mutu pangan , diliha...</td>\n",
              "    </tr>\n",
              "    <tr>\n",
              "      <th>15362</th>\n",
              "      <td>Around 20 percents people with the lowest inco...</td>\n",
              "      <td>Sekitar 20 persen penduduk dengan tingkat pend...</td>\n",
              "    </tr>\n",
              "    <tr>\n",
              "      <th>15363</th>\n",
              "      <td>Deficiency of calory intake , namely less than...</td>\n",
              "      <td>Kekurangan asupan kalori , yaitu kurang dari 2...</td>\n",
              "    </tr>\n",
              "  </tbody>\n",
              "</table>\n",
              "<p>15364 rows × 2 columns</p>\n",
              "</div>\n",
              "      <button class=\"colab-df-convert\" onclick=\"convertToInteractive('df-e5098ca4-8bff-4750-b998-f5aa2365e6f9')\"\n",
              "              title=\"Convert this dataframe to an interactive table.\"\n",
              "              style=\"display:none;\">\n",
              "        \n",
              "  <svg xmlns=\"http://www.w3.org/2000/svg\" height=\"24px\"viewBox=\"0 0 24 24\"\n",
              "       width=\"24px\">\n",
              "    <path d=\"M0 0h24v24H0V0z\" fill=\"none\"/>\n",
              "    <path d=\"M18.56 5.44l.94 2.06.94-2.06 2.06-.94-2.06-.94-.94-2.06-.94 2.06-2.06.94zm-11 1L8.5 8.5l.94-2.06 2.06-.94-2.06-.94L8.5 2.5l-.94 2.06-2.06.94zm10 10l.94 2.06.94-2.06 2.06-.94-2.06-.94-.94-2.06-.94 2.06-2.06.94z\"/><path d=\"M17.41 7.96l-1.37-1.37c-.4-.4-.92-.59-1.43-.59-.52 0-1.04.2-1.43.59L10.3 9.45l-7.72 7.72c-.78.78-.78 2.05 0 2.83L4 21.41c.39.39.9.59 1.41.59.51 0 1.02-.2 1.41-.59l7.78-7.78 2.81-2.81c.8-.78.8-2.07 0-2.86zM5.41 20L4 18.59l7.72-7.72 1.47 1.35L5.41 20z\"/>\n",
              "  </svg>\n",
              "      </button>\n",
              "      \n",
              "  <style>\n",
              "    .colab-df-container {\n",
              "      display:flex;\n",
              "      flex-wrap:wrap;\n",
              "      gap: 12px;\n",
              "    }\n",
              "\n",
              "    .colab-df-convert {\n",
              "      background-color: #E8F0FE;\n",
              "      border: none;\n",
              "      border-radius: 50%;\n",
              "      cursor: pointer;\n",
              "      display: none;\n",
              "      fill: #1967D2;\n",
              "      height: 32px;\n",
              "      padding: 0 0 0 0;\n",
              "      width: 32px;\n",
              "    }\n",
              "\n",
              "    .colab-df-convert:hover {\n",
              "      background-color: #E2EBFA;\n",
              "      box-shadow: 0px 1px 2px rgba(60, 64, 67, 0.3), 0px 1px 3px 1px rgba(60, 64, 67, 0.15);\n",
              "      fill: #174EA6;\n",
              "    }\n",
              "\n",
              "    [theme=dark] .colab-df-convert {\n",
              "      background-color: #3B4455;\n",
              "      fill: #D2E3FC;\n",
              "    }\n",
              "\n",
              "    [theme=dark] .colab-df-convert:hover {\n",
              "      background-color: #434B5C;\n",
              "      box-shadow: 0px 1px 3px 1px rgba(0, 0, 0, 0.15);\n",
              "      filter: drop-shadow(0px 1px 2px rgba(0, 0, 0, 0.3));\n",
              "      fill: #FFFFFF;\n",
              "    }\n",
              "  </style>\n",
              "\n",
              "      <script>\n",
              "        const buttonEl =\n",
              "          document.querySelector('#df-e5098ca4-8bff-4750-b998-f5aa2365e6f9 button.colab-df-convert');\n",
              "        buttonEl.style.display =\n",
              "          google.colab.kernel.accessAllowed ? 'block' : 'none';\n",
              "\n",
              "        async function convertToInteractive(key) {\n",
              "          const element = document.querySelector('#df-e5098ca4-8bff-4750-b998-f5aa2365e6f9');\n",
              "          const dataTable =\n",
              "            await google.colab.kernel.invokeFunction('convertToInteractive',\n",
              "                                                     [key], {});\n",
              "          if (!dataTable) return;\n",
              "\n",
              "          const docLinkHtml = 'Like what you see? Visit the ' +\n",
              "            '<a target=\"_blank\" href=https://colab.research.google.com/notebooks/data_table.ipynb>data table notebook</a>'\n",
              "            + ' to learn more about interactive tables.';\n",
              "          element.innerHTML = '';\n",
              "          dataTable['output_type'] = 'display_data';\n",
              "          await google.colab.output.renderOutput(dataTable, element);\n",
              "          const docLink = document.createElement('div');\n",
              "          docLink.innerHTML = docLinkHtml;\n",
              "          element.appendChild(docLink);\n",
              "        }\n",
              "      </script>\n",
              "    </div>\n",
              "  </div>\n",
              "  "
            ]
          },
          "metadata": {},
          "execution_count": 5
        }
      ],
      "source": [
        "df1 = pd.read_csv(filedir1)\n",
        "df1"
      ]
    },
    {
      "cell_type": "code",
      "source": [
        "df2 = pd.read_csv(filedir2)\n",
        "df2 = df2.drop(columns='spam')\n",
        "df2 = df2.rename(columns={'text': 'English', 'teks': 'Indonesia'})\n",
        "df2"
      ],
      "metadata": {
        "id": "3u1k0G1oKBSl",
        "colab": {
          "base_uri": "https://localhost:8080/",
          "height": 424
        },
        "outputId": "dfd2badf-435c-459d-f191-9e2a226f5e2d"
      },
      "execution_count": 10,
      "outputs": [
        {
          "output_type": "execute_result",
          "data": {
            "text/plain": [
              "                                                English  \\\n",
              "0     naturally irresistible your corporate identity...   \n",
              "1     the stock trading gunslinger  fanny is merrill...   \n",
              "2     unbelievable new homes made easy  im wanting t...   \n",
              "3     4 color printing special  request additional i...   \n",
              "4     do not have money , get software cds from here...   \n",
              "...                                                 ...   \n",
              "5723  research and development charges to gpg  here ...   \n",
              "5724  receipts from visit  jim ,  thanks again for t...   \n",
              "5725  enron case study update  wow ! all on the same...   \n",
              "5726  interest  david ,  please , call shirley crens...   \n",
              "5727  news : aurora 5 . 2 update  aurora version 5 ....   \n",
              "\n",
              "                                              Indonesia  \n",
              "0     Secara alami tak tertahankan identitas perusah...  \n",
              "1     Fanny Gunslinger Perdagangan Saham adalah Merr...  \n",
              "2     Rumah Baru yang Luar Biasa Menjadi Mudah Saya ...  \n",
              "3     4 PERMINTAAN PERMINTAAN KHUSUS INFORMASI KHUSU...  \n",
              "4     Jangan punya uang, dapatkan CD perangkat lunak...  \n",
              "...                                                 ...  \n",
              "5723  Biaya penelitian dan pengembangan ke GPG di si...  \n",
              "5724  Tanda terima dari kunjungan Jim, terima kasih ...  \n",
              "5725  Pembaruan Studi Kasus Enron Wow! Semua pada ha...  \n",
              "5726  Bunga David, tolong, hubungi Shirley Crenshaw ...  \n",
              "5727  Berita: Aurora 5. 2 Perbarui Aurora Versi 5. 2...  \n",
              "\n",
              "[5728 rows x 2 columns]"
            ],
            "text/html": [
              "\n",
              "  <div id=\"df-35fd3648-1e6e-4506-a3de-15aead206dd2\">\n",
              "    <div class=\"colab-df-container\">\n",
              "      <div>\n",
              "<style scoped>\n",
              "    .dataframe tbody tr th:only-of-type {\n",
              "        vertical-align: middle;\n",
              "    }\n",
              "\n",
              "    .dataframe tbody tr th {\n",
              "        vertical-align: top;\n",
              "    }\n",
              "\n",
              "    .dataframe thead th {\n",
              "        text-align: right;\n",
              "    }\n",
              "</style>\n",
              "<table border=\"1\" class=\"dataframe\">\n",
              "  <thead>\n",
              "    <tr style=\"text-align: right;\">\n",
              "      <th></th>\n",
              "      <th>English</th>\n",
              "      <th>Indonesia</th>\n",
              "    </tr>\n",
              "  </thead>\n",
              "  <tbody>\n",
              "    <tr>\n",
              "      <th>0</th>\n",
              "      <td>naturally irresistible your corporate identity...</td>\n",
              "      <td>Secara alami tak tertahankan identitas perusah...</td>\n",
              "    </tr>\n",
              "    <tr>\n",
              "      <th>1</th>\n",
              "      <td>the stock trading gunslinger  fanny is merrill...</td>\n",
              "      <td>Fanny Gunslinger Perdagangan Saham adalah Merr...</td>\n",
              "    </tr>\n",
              "    <tr>\n",
              "      <th>2</th>\n",
              "      <td>unbelievable new homes made easy  im wanting t...</td>\n",
              "      <td>Rumah Baru yang Luar Biasa Menjadi Mudah Saya ...</td>\n",
              "    </tr>\n",
              "    <tr>\n",
              "      <th>3</th>\n",
              "      <td>4 color printing special  request additional i...</td>\n",
              "      <td>4 PERMINTAAN PERMINTAAN KHUSUS INFORMASI KHUSU...</td>\n",
              "    </tr>\n",
              "    <tr>\n",
              "      <th>4</th>\n",
              "      <td>do not have money , get software cds from here...</td>\n",
              "      <td>Jangan punya uang, dapatkan CD perangkat lunak...</td>\n",
              "    </tr>\n",
              "    <tr>\n",
              "      <th>...</th>\n",
              "      <td>...</td>\n",
              "      <td>...</td>\n",
              "    </tr>\n",
              "    <tr>\n",
              "      <th>5723</th>\n",
              "      <td>research and development charges to gpg  here ...</td>\n",
              "      <td>Biaya penelitian dan pengembangan ke GPG di si...</td>\n",
              "    </tr>\n",
              "    <tr>\n",
              "      <th>5724</th>\n",
              "      <td>receipts from visit  jim ,  thanks again for t...</td>\n",
              "      <td>Tanda terima dari kunjungan Jim, terima kasih ...</td>\n",
              "    </tr>\n",
              "    <tr>\n",
              "      <th>5725</th>\n",
              "      <td>enron case study update  wow ! all on the same...</td>\n",
              "      <td>Pembaruan Studi Kasus Enron Wow! Semua pada ha...</td>\n",
              "    </tr>\n",
              "    <tr>\n",
              "      <th>5726</th>\n",
              "      <td>interest  david ,  please , call shirley crens...</td>\n",
              "      <td>Bunga David, tolong, hubungi Shirley Crenshaw ...</td>\n",
              "    </tr>\n",
              "    <tr>\n",
              "      <th>5727</th>\n",
              "      <td>news : aurora 5 . 2 update  aurora version 5 ....</td>\n",
              "      <td>Berita: Aurora 5. 2 Perbarui Aurora Versi 5. 2...</td>\n",
              "    </tr>\n",
              "  </tbody>\n",
              "</table>\n",
              "<p>5728 rows × 2 columns</p>\n",
              "</div>\n",
              "      <button class=\"colab-df-convert\" onclick=\"convertToInteractive('df-35fd3648-1e6e-4506-a3de-15aead206dd2')\"\n",
              "              title=\"Convert this dataframe to an interactive table.\"\n",
              "              style=\"display:none;\">\n",
              "        \n",
              "  <svg xmlns=\"http://www.w3.org/2000/svg\" height=\"24px\"viewBox=\"0 0 24 24\"\n",
              "       width=\"24px\">\n",
              "    <path d=\"M0 0h24v24H0V0z\" fill=\"none\"/>\n",
              "    <path d=\"M18.56 5.44l.94 2.06.94-2.06 2.06-.94-2.06-.94-.94-2.06-.94 2.06-2.06.94zm-11 1L8.5 8.5l.94-2.06 2.06-.94-2.06-.94L8.5 2.5l-.94 2.06-2.06.94zm10 10l.94 2.06.94-2.06 2.06-.94-2.06-.94-.94-2.06-.94 2.06-2.06.94z\"/><path d=\"M17.41 7.96l-1.37-1.37c-.4-.4-.92-.59-1.43-.59-.52 0-1.04.2-1.43.59L10.3 9.45l-7.72 7.72c-.78.78-.78 2.05 0 2.83L4 21.41c.39.39.9.59 1.41.59.51 0 1.02-.2 1.41-.59l7.78-7.78 2.81-2.81c.8-.78.8-2.07 0-2.86zM5.41 20L4 18.59l7.72-7.72 1.47 1.35L5.41 20z\"/>\n",
              "  </svg>\n",
              "      </button>\n",
              "      \n",
              "  <style>\n",
              "    .colab-df-container {\n",
              "      display:flex;\n",
              "      flex-wrap:wrap;\n",
              "      gap: 12px;\n",
              "    }\n",
              "\n",
              "    .colab-df-convert {\n",
              "      background-color: #E8F0FE;\n",
              "      border: none;\n",
              "      border-radius: 50%;\n",
              "      cursor: pointer;\n",
              "      display: none;\n",
              "      fill: #1967D2;\n",
              "      height: 32px;\n",
              "      padding: 0 0 0 0;\n",
              "      width: 32px;\n",
              "    }\n",
              "\n",
              "    .colab-df-convert:hover {\n",
              "      background-color: #E2EBFA;\n",
              "      box-shadow: 0px 1px 2px rgba(60, 64, 67, 0.3), 0px 1px 3px 1px rgba(60, 64, 67, 0.15);\n",
              "      fill: #174EA6;\n",
              "    }\n",
              "\n",
              "    [theme=dark] .colab-df-convert {\n",
              "      background-color: #3B4455;\n",
              "      fill: #D2E3FC;\n",
              "    }\n",
              "\n",
              "    [theme=dark] .colab-df-convert:hover {\n",
              "      background-color: #434B5C;\n",
              "      box-shadow: 0px 1px 3px 1px rgba(0, 0, 0, 0.15);\n",
              "      filter: drop-shadow(0px 1px 2px rgba(0, 0, 0, 0.3));\n",
              "      fill: #FFFFFF;\n",
              "    }\n",
              "  </style>\n",
              "\n",
              "      <script>\n",
              "        const buttonEl =\n",
              "          document.querySelector('#df-35fd3648-1e6e-4506-a3de-15aead206dd2 button.colab-df-convert');\n",
              "        buttonEl.style.display =\n",
              "          google.colab.kernel.accessAllowed ? 'block' : 'none';\n",
              "\n",
              "        async function convertToInteractive(key) {\n",
              "          const element = document.querySelector('#df-35fd3648-1e6e-4506-a3de-15aead206dd2');\n",
              "          const dataTable =\n",
              "            await google.colab.kernel.invokeFunction('convertToInteractive',\n",
              "                                                     [key], {});\n",
              "          if (!dataTable) return;\n",
              "\n",
              "          const docLinkHtml = 'Like what you see? Visit the ' +\n",
              "            '<a target=\"_blank\" href=https://colab.research.google.com/notebooks/data_table.ipynb>data table notebook</a>'\n",
              "            + ' to learn more about interactive tables.';\n",
              "          element.innerHTML = '';\n",
              "          dataTable['output_type'] = 'display_data';\n",
              "          await google.colab.output.renderOutput(dataTable, element);\n",
              "          const docLink = document.createElement('div');\n",
              "          docLink.innerHTML = docLinkHtml;\n",
              "          element.appendChild(docLink);\n",
              "        }\n",
              "      </script>\n",
              "    </div>\n",
              "  </div>\n",
              "  "
            ]
          },
          "metadata": {},
          "execution_count": 10
        }
      ]
    },
    {
      "cell_type": "code",
      "source": [
        "df = pd.concat([df1, df2])\n",
        "df"
      ],
      "metadata": {
        "colab": {
          "base_uri": "https://localhost:8080/",
          "height": 424
        },
        "id": "Z-shI2BHLTEg",
        "outputId": "f61e5594-e2f5-4804-b6e6-b819d7033b38"
      },
      "execution_count": 13,
      "outputs": [
        {
          "output_type": "execute_result",
          "data": {
            "text/plain": [
              "                                                English  \\\n",
              "0                                                  Run!   \n",
              "1                                                  Who?   \n",
              "2                                                  Wow!   \n",
              "3                                                 Help!   \n",
              "4                                                 Jump!   \n",
              "...                                                 ...   \n",
              "5723  research and development charges to gpg  here ...   \n",
              "5724  receipts from visit  jim ,  thanks again for t...   \n",
              "5725  enron case study update  wow ! all on the same...   \n",
              "5726  interest  david ,  please , call shirley crens...   \n",
              "5727  news : aurora 5 . 2 update  aurora version 5 ....   \n",
              "\n",
              "                                              Indonesia  \n",
              "0                                                 Lari!  \n",
              "1                                                Siapa?  \n",
              "2                                                  Wow!  \n",
              "3                                               Tolong!  \n",
              "4                                               Lompat!  \n",
              "...                                                 ...  \n",
              "5723  Biaya penelitian dan pengembangan ke GPG di si...  \n",
              "5724  Tanda terima dari kunjungan Jim, terima kasih ...  \n",
              "5725  Pembaruan Studi Kasus Enron Wow! Semua pada ha...  \n",
              "5726  Bunga David, tolong, hubungi Shirley Crenshaw ...  \n",
              "5727  Berita: Aurora 5. 2 Perbarui Aurora Versi 5. 2...  \n",
              "\n",
              "[21092 rows x 2 columns]"
            ],
            "text/html": [
              "\n",
              "  <div id=\"df-65349df7-f119-4076-8a87-c75c5c370646\">\n",
              "    <div class=\"colab-df-container\">\n",
              "      <div>\n",
              "<style scoped>\n",
              "    .dataframe tbody tr th:only-of-type {\n",
              "        vertical-align: middle;\n",
              "    }\n",
              "\n",
              "    .dataframe tbody tr th {\n",
              "        vertical-align: top;\n",
              "    }\n",
              "\n",
              "    .dataframe thead th {\n",
              "        text-align: right;\n",
              "    }\n",
              "</style>\n",
              "<table border=\"1\" class=\"dataframe\">\n",
              "  <thead>\n",
              "    <tr style=\"text-align: right;\">\n",
              "      <th></th>\n",
              "      <th>English</th>\n",
              "      <th>Indonesia</th>\n",
              "    </tr>\n",
              "  </thead>\n",
              "  <tbody>\n",
              "    <tr>\n",
              "      <th>0</th>\n",
              "      <td>Run!</td>\n",
              "      <td>Lari!</td>\n",
              "    </tr>\n",
              "    <tr>\n",
              "      <th>1</th>\n",
              "      <td>Who?</td>\n",
              "      <td>Siapa?</td>\n",
              "    </tr>\n",
              "    <tr>\n",
              "      <th>2</th>\n",
              "      <td>Wow!</td>\n",
              "      <td>Wow!</td>\n",
              "    </tr>\n",
              "    <tr>\n",
              "      <th>3</th>\n",
              "      <td>Help!</td>\n",
              "      <td>Tolong!</td>\n",
              "    </tr>\n",
              "    <tr>\n",
              "      <th>4</th>\n",
              "      <td>Jump!</td>\n",
              "      <td>Lompat!</td>\n",
              "    </tr>\n",
              "    <tr>\n",
              "      <th>...</th>\n",
              "      <td>...</td>\n",
              "      <td>...</td>\n",
              "    </tr>\n",
              "    <tr>\n",
              "      <th>5723</th>\n",
              "      <td>research and development charges to gpg  here ...</td>\n",
              "      <td>Biaya penelitian dan pengembangan ke GPG di si...</td>\n",
              "    </tr>\n",
              "    <tr>\n",
              "      <th>5724</th>\n",
              "      <td>receipts from visit  jim ,  thanks again for t...</td>\n",
              "      <td>Tanda terima dari kunjungan Jim, terima kasih ...</td>\n",
              "    </tr>\n",
              "    <tr>\n",
              "      <th>5725</th>\n",
              "      <td>enron case study update  wow ! all on the same...</td>\n",
              "      <td>Pembaruan Studi Kasus Enron Wow! Semua pada ha...</td>\n",
              "    </tr>\n",
              "    <tr>\n",
              "      <th>5726</th>\n",
              "      <td>interest  david ,  please , call shirley crens...</td>\n",
              "      <td>Bunga David, tolong, hubungi Shirley Crenshaw ...</td>\n",
              "    </tr>\n",
              "    <tr>\n",
              "      <th>5727</th>\n",
              "      <td>news : aurora 5 . 2 update  aurora version 5 ....</td>\n",
              "      <td>Berita: Aurora 5. 2 Perbarui Aurora Versi 5. 2...</td>\n",
              "    </tr>\n",
              "  </tbody>\n",
              "</table>\n",
              "<p>21092 rows × 2 columns</p>\n",
              "</div>\n",
              "      <button class=\"colab-df-convert\" onclick=\"convertToInteractive('df-65349df7-f119-4076-8a87-c75c5c370646')\"\n",
              "              title=\"Convert this dataframe to an interactive table.\"\n",
              "              style=\"display:none;\">\n",
              "        \n",
              "  <svg xmlns=\"http://www.w3.org/2000/svg\" height=\"24px\"viewBox=\"0 0 24 24\"\n",
              "       width=\"24px\">\n",
              "    <path d=\"M0 0h24v24H0V0z\" fill=\"none\"/>\n",
              "    <path d=\"M18.56 5.44l.94 2.06.94-2.06 2.06-.94-2.06-.94-.94-2.06-.94 2.06-2.06.94zm-11 1L8.5 8.5l.94-2.06 2.06-.94-2.06-.94L8.5 2.5l-.94 2.06-2.06.94zm10 10l.94 2.06.94-2.06 2.06-.94-2.06-.94-.94-2.06-.94 2.06-2.06.94z\"/><path d=\"M17.41 7.96l-1.37-1.37c-.4-.4-.92-.59-1.43-.59-.52 0-1.04.2-1.43.59L10.3 9.45l-7.72 7.72c-.78.78-.78 2.05 0 2.83L4 21.41c.39.39.9.59 1.41.59.51 0 1.02-.2 1.41-.59l7.78-7.78 2.81-2.81c.8-.78.8-2.07 0-2.86zM5.41 20L4 18.59l7.72-7.72 1.47 1.35L5.41 20z\"/>\n",
              "  </svg>\n",
              "      </button>\n",
              "      \n",
              "  <style>\n",
              "    .colab-df-container {\n",
              "      display:flex;\n",
              "      flex-wrap:wrap;\n",
              "      gap: 12px;\n",
              "    }\n",
              "\n",
              "    .colab-df-convert {\n",
              "      background-color: #E8F0FE;\n",
              "      border: none;\n",
              "      border-radius: 50%;\n",
              "      cursor: pointer;\n",
              "      display: none;\n",
              "      fill: #1967D2;\n",
              "      height: 32px;\n",
              "      padding: 0 0 0 0;\n",
              "      width: 32px;\n",
              "    }\n",
              "\n",
              "    .colab-df-convert:hover {\n",
              "      background-color: #E2EBFA;\n",
              "      box-shadow: 0px 1px 2px rgba(60, 64, 67, 0.3), 0px 1px 3px 1px rgba(60, 64, 67, 0.15);\n",
              "      fill: #174EA6;\n",
              "    }\n",
              "\n",
              "    [theme=dark] .colab-df-convert {\n",
              "      background-color: #3B4455;\n",
              "      fill: #D2E3FC;\n",
              "    }\n",
              "\n",
              "    [theme=dark] .colab-df-convert:hover {\n",
              "      background-color: #434B5C;\n",
              "      box-shadow: 0px 1px 3px 1px rgba(0, 0, 0, 0.15);\n",
              "      filter: drop-shadow(0px 1px 2px rgba(0, 0, 0, 0.3));\n",
              "      fill: #FFFFFF;\n",
              "    }\n",
              "  </style>\n",
              "\n",
              "      <script>\n",
              "        const buttonEl =\n",
              "          document.querySelector('#df-65349df7-f119-4076-8a87-c75c5c370646 button.colab-df-convert');\n",
              "        buttonEl.style.display =\n",
              "          google.colab.kernel.accessAllowed ? 'block' : 'none';\n",
              "\n",
              "        async function convertToInteractive(key) {\n",
              "          const element = document.querySelector('#df-65349df7-f119-4076-8a87-c75c5c370646');\n",
              "          const dataTable =\n",
              "            await google.colab.kernel.invokeFunction('convertToInteractive',\n",
              "                                                     [key], {});\n",
              "          if (!dataTable) return;\n",
              "\n",
              "          const docLinkHtml = 'Like what you see? Visit the ' +\n",
              "            '<a target=\"_blank\" href=https://colab.research.google.com/notebooks/data_table.ipynb>data table notebook</a>'\n",
              "            + ' to learn more about interactive tables.';\n",
              "          element.innerHTML = '';\n",
              "          dataTable['output_type'] = 'display_data';\n",
              "          await google.colab.output.renderOutput(dataTable, element);\n",
              "          const docLink = document.createElement('div');\n",
              "          docLink.innerHTML = docLinkHtml;\n",
              "          element.appendChild(docLink);\n",
              "        }\n",
              "      </script>\n",
              "    </div>\n",
              "  </div>\n",
              "  "
            ]
          },
          "metadata": {},
          "execution_count": 13
        }
      ]
    },
    {
      "cell_type": "code",
      "execution_count": 15,
      "metadata": {
        "id": "RgUUgmronChh"
      },
      "outputs": [],
      "source": [
        "start_mark = '<start>'\n",
        "end_mark = '<end>'"
      ]
    },
    {
      "cell_type": "code",
      "execution_count": 55,
      "metadata": {
        "id": "KA5VqxGKtrWx"
      },
      "outputs": [],
      "source": [
        "class TranslatorDataset():\n",
        "  def __init__(self, dataframe):\n",
        "    self.dataframe = dataframe\n",
        "    self.input_tokenizer = None\n",
        "    self.target_tokenizer = None\n",
        "    self._load_data_from_file()\n",
        "\n",
        "  def _load_data_from_file(self):\n",
        "    df = self.dataframe\n",
        "\n",
        "    input_lang = df.English.values\n",
        "    target_lang = df.Indonesia.values\n",
        "\n",
        "    return input_lang, target_lang\n",
        "\n",
        "  def _normalize_and_preprocess(self, text, use_mark=False):\n",
        "    if use_mark:\n",
        "      text = text.strip()\n",
        "      text = ' '.join([start_mark, text, end_mark])\n",
        "    else:\n",
        "      text = text.strip()\n",
        "\n",
        "    return text\n",
        "\n",
        "  def _tokenize(self, sentences, num_words, maxlen):\n",
        "    punctuation = '!\"#$%&()*+,-./:;=?@[\\\\]^_`{|}~\\t\\n'\n",
        "\n",
        "    tokenizer = Tokenizer(num_words=num_words, filters=punctuation)\n",
        "    tokenizer.fit_on_texts(sentences)\n",
        "\n",
        "    sequences = tokenizer.texts_to_sequences(sentences)\n",
        "    sequences = pad_sequences(\n",
        "        sequences, maxlen=self.maxlen, padding='post', truncating='post')\n",
        "\n",
        "    return sequences, tokenizer\n",
        "\n",
        "  def _create_dataset(self):\n",
        "    input_lang, target_lang = self._load_data_from_file()\n",
        "\n",
        "    input_sentence = np.array(\n",
        "        list(map(lambda x: self._normalize_and_preprocess(x, False), input_lang)))\n",
        "    \n",
        "    target_sentence = np.array(\n",
        "        list(map(lambda y: self._normalize_and_preprocess(y, True), target_lang)))\n",
        "    \n",
        "    return input_sentence, target_sentence\n",
        "\n",
        "  def _load_dataset(self, num_words):\n",
        "    input_lang, target_lang = self._create_dataset()\n",
        "\n",
        "    self.maxlen = 20\n",
        "    self.buffer_size = len(input_lang)\n",
        "\n",
        "    input_sequences, input_tokenizer = self._tokenize(\n",
        "        input_lang, num_words, self.maxlen)\n",
        "    \n",
        "    target_sequences, target_tokenizer = self._tokenize(\n",
        "        target_lang, num_words, self.maxlen,)\n",
        "\n",
        "    return (input_sequences, input_tokenizer), (target_sequences, target_tokenizer)\n",
        "  \n",
        "  def get(self, num_words, batch_size):\n",
        "    input, target = self._load_dataset(num_words)\n",
        "\n",
        "    input_sequences, self.input_tokenizer = input\n",
        "    target_sequences, self.target_tokenizer = target\n",
        "\n",
        "    dataset = tf.data.Dataset.from_tensor_slices((input_sequences, target_sequences))\n",
        "    dataset = dataset.shuffle(self.buffer_size).batch(batch_size, drop_remainder=True)\n",
        "    dataset = dataset.cache().prefetch(buffer_size=tf.data.experimental.AUTOTUNE)\n",
        "\n",
        "    return self.input_tokenizer, self.target_tokenizer, dataset"
      ]
    },
    {
      "cell_type": "code",
      "execution_count": 72,
      "metadata": {
        "id": "8lYoZZjqXF__"
      },
      "outputs": [],
      "source": [
        "num_words = 50000\n",
        "batch_size = 64"
      ]
    },
    {
      "cell_type": "code",
      "execution_count": 73,
      "metadata": {
        "id": "QW7fD1GdrExy"
      },
      "outputs": [],
      "source": [
        "translator_dataset = TranslatorDataset(df)\n",
        "\n",
        "input_tokenizer, target_tokenizer, dataset = translator_dataset.get(num_words, batch_size)"
      ]
    },
    {
      "cell_type": "code",
      "execution_count": 74,
      "metadata": {
        "id": "3lQitbaJXt4O"
      },
      "outputs": [],
      "source": [
        "input_batch, target_batch = next(iter(dataset))"
      ]
    },
    {
      "cell_type": "code",
      "execution_count": 75,
      "metadata": {
        "id": "2j91LroJX50x",
        "colab": {
          "base_uri": "https://localhost:8080/"
        },
        "outputId": "49269825-8618-4285-a853-bfaddfd22149"
      },
      "outputs": [
        {
          "output_type": "execute_result",
          "data": {
            "text/plain": [
              "(TensorShape([64, 20]), TensorShape([64, 20]))"
            ]
          },
          "metadata": {},
          "execution_count": 75
        }
      ],
      "source": [
        "input_batch.shape, target_batch.shape"
      ]
    },
    {
      "cell_type": "code",
      "execution_count": 76,
      "metadata": {
        "id": "cI-TplUE22Tk",
        "colab": {
          "base_uri": "https://localhost:8080/"
        },
        "outputId": "9c521905-ed24-4980-c3d9-5548e6ffa030"
      },
      "outputs": [
        {
          "output_type": "execute_result",
          "data": {
            "text/plain": [
              "(20, 20, 41890, 43129)"
            ]
          },
          "metadata": {},
          "execution_count": 76
        }
      ],
      "source": [
        "input_vocab_size = len(input_tokenizer.index_word) + 1\n",
        "target_vocab_size = len(target_tokenizer.index_word) + 1\n",
        "input_maxlen = input_batch.shape[1]\n",
        "target_maxlen = target_batch.shape[1]\n",
        "\n",
        "input_maxlen, target_maxlen, input_vocab_size, target_vocab_size"
      ]
    },
    {
      "cell_type": "code",
      "execution_count": 77,
      "metadata": {
        "id": "cPp4UAxdxemM",
        "colab": {
          "base_uri": "https://localhost:8080/"
        },
        "outputId": "df88a135-e6fe-4737-f45a-ab89aea08f3d"
      },
      "outputs": [
        {
          "output_type": "execute_result",
          "data": {
            "text/plain": [
              "<tf.Tensor: shape=(20,), dtype=int32, numpy=\n",
              "array([   8, 4190,  440,   41,   76,    9,  527,   10,    0,    0,    0,\n",
              "          0,    0,    0,    0,    0,    0,    0,    0,    0], dtype=int32)>"
            ]
          },
          "metadata": {},
          "execution_count": 77
        }
      ],
      "source": [
        "input_example = input_batch[-1]\n",
        "input_example"
      ]
    },
    {
      "cell_type": "code",
      "execution_count": 78,
      "metadata": {
        "id": "1r5qpp8Hxjzk",
        "colab": {
          "base_uri": "https://localhost:8080/"
        },
        "outputId": "02dca37c-f3ff-4571-9edf-d0c72070af5f"
      },
      "outputs": [
        {
          "output_type": "execute_result",
          "data": {
            "text/plain": [
              "<tf.Tensor: shape=(20,), dtype=int32, numpy=\n",
              "array([    7,   212,   303, 13305,     1, 25730,     8,     0,     0,\n",
              "           0,     0,     0,     0,     0,     0,     0,     0,     0,\n",
              "           0,     0], dtype=int32)>"
            ]
          },
          "metadata": {},
          "execution_count": 78
        }
      ],
      "source": [
        "target_example = target_batch[-1]\n",
        "target_example"
      ]
    },
    {
      "cell_type": "code",
      "execution_count": 79,
      "metadata": {
        "id": "ulo132GvOX0l",
        "colab": {
          "base_uri": "https://localhost:8080/",
          "height": 36
        },
        "outputId": "8c921007-f1a4-4b8a-9b0e-fce226bfff0f"
      },
      "outputs": [
        {
          "output_type": "execute_result",
          "data": {
            "text/plain": [
              "\"you haven't given me what i asked for\""
            ],
            "application/vnd.google.colaboratory.intrinsic+json": {
              "type": "string"
            }
          },
          "metadata": {},
          "execution_count": 79
        }
      ],
      "source": [
        "input_sentence = input_tokenizer.sequences_to_texts([input_example.numpy()])[0]\n",
        "input_sentence"
      ]
    },
    {
      "cell_type": "code",
      "execution_count": 80,
      "metadata": {
        "id": "X59pOM0qOtyb",
        "colab": {
          "base_uri": "https://localhost:8080/",
          "height": 36
        },
        "outputId": "5729d004-af98-49aa-c975-2da4605190f6"
      },
      "outputs": [
        {
          "output_type": "execute_result",
          "data": {
            "text/plain": [
              "'<start> kamu belum memberiku yang kuminta <end>'"
            ],
            "application/vnd.google.colaboratory.intrinsic+json": {
              "type": "string"
            }
          },
          "metadata": {},
          "execution_count": 80
        }
      ],
      "source": [
        "target_sentence = target_tokenizer.sequences_to_texts([target_example.numpy()])[0]\n",
        "target_sentence"
      ]
    },
    {
      "cell_type": "code",
      "execution_count": 81,
      "metadata": {
        "id": "CeQhJSGasf4P"
      },
      "outputs": [],
      "source": [
        "embed_dims = 1000\n",
        "units = 1024"
      ]
    },
    {
      "cell_type": "code",
      "execution_count": 82,
      "metadata": {
        "id": "fc2nYdHM0Xv0"
      },
      "outputs": [],
      "source": [
        "class Encoder():\n",
        "  def __init__(self, input_vocab_size, embedding_dims, units):\n",
        "    self.units = units\n",
        "    self.batch_size = batch_size\n",
        "    self.input_vocab_size = input_vocab_size\n",
        "    self.embedding_dims = embedding_dims\n",
        "\n",
        "    self.embedding = layers.Embedding(self.input_vocab_size, self.embedding_dims)\n",
        "    self.lstm_layer = layers.LSTM(self.units,\n",
        "                                 return_sequences=True,\n",
        "                                 return_state=True,\n",
        "                                 recurrent_initializer='glorot_uniform')\n",
        "\n",
        "  def call(self, inputs):\n",
        "    embedding = self.embedding(inputs)\n",
        "    encoder = self.lstm_layer(embedding)\n",
        "\n",
        "    return encoder"
      ]
    },
    {
      "cell_type": "code",
      "execution_count": 83,
      "metadata": {
        "id": "TFONKQDzUdmw"
      },
      "outputs": [],
      "source": [
        "class BahdanauAttention(layers.Layer):\n",
        "  def __init__(self, units):\n",
        "    super(BahdanauAttention, self).__init__()\n",
        "    self.w1 = layers.Dense(units, use_bias=True) \n",
        "    self.w2 = layers.Dense(units, use_bias=True) \n",
        "    self.fd = layers.Dense(1)\n",
        "\n",
        "  def call(self, query, values):\n",
        "    query_with_time_axis = tf.expand_dims(query, 1)\n",
        "    \n",
        "    score = self.fd(tanh(\n",
        "        self.w1(query_with_time_axis) + self.w2(values)))\n",
        "\n",
        "    attention_weights = softmax(score, axis=1)\n",
        "\n",
        "    context_vector = attention_weights * values\n",
        "    context_vector = tf.reduce_sum(context_vector, axis=1)\n",
        "\n",
        "    return context_vector, attention_weights"
      ]
    },
    {
      "cell_type": "code",
      "execution_count": 84,
      "metadata": {
        "id": "8ayl_3A_1-IT"
      },
      "outputs": [],
      "source": [
        "class Decoder():\n",
        "  def __init__(self, output_vocab_size, embedding_dims, units):\n",
        "    self.units = units\n",
        "    self.output_vocab_size = output_vocab_size\n",
        "    self.embedding_dims = embedding_dims\n",
        "\n",
        "    self.embedding = layers.Embedding(self.output_vocab_size, self.embedding_dims)\n",
        "    self.lstm_layer = layers.LSTM(self.units,\n",
        "                                  return_sequences=True,\n",
        "                                  return_state=True,\n",
        "                                  recurrent_initializer='glorot_uniform')\n",
        "    self.attention = BahdanauAttention(self.units)\n",
        "    self.concat = layers.Concatenate()\n",
        "    self.dense1 = layers.Dense(self.units, activation=tanh, use_bias=False)\n",
        "    self.dropout = layers.Dropout(.5)\n",
        "    self.dense2 = layers.TimeDistributed(layers.Dense(self.output_vocab_size))\n",
        "\n",
        "  def call(self, inputs, en_outputs, state):\n",
        "    embedding = self.embedding(inputs)\n",
        "    dec_outputs, dec_h_state, dec_c_state = self.lstm_layer(\n",
        "        embedding, initial_state=state)\n",
        "    \n",
        "    context_vector, attention_weights = self.attention(\n",
        "        query=dec_outputs, values=en_outputs)\n",
        "    \n",
        "    context_and_rnn_output = self.concat(\n",
        "        [context_vector, dec_outputs])\n",
        "\n",
        "    attention_vector = self.dense1(context_and_rnn_output)\n",
        "    outputs = self.dropout(attention_vector)\n",
        "    outputs = self.dense2(outputs)\n",
        "\n",
        "    return outputs"
      ]
    },
    {
      "cell_type": "code",
      "execution_count": 85,
      "metadata": {
        "id": "Kio22M03Yp9S",
        "colab": {
          "base_uri": "https://localhost:8080/"
        },
        "outputId": "5a35702a-aef1-4ef3-b472-fda566ad232e"
      },
      "outputs": [
        {
          "output_type": "execute_result",
          "data": {
            "text/plain": [
              "(TensorShape([64, 20, 1024]), TensorShape([64, 1024]), TensorShape([64, 1024]))"
            ]
          },
          "metadata": {},
          "execution_count": 85
        }
      ],
      "source": [
        "encoder = Encoder(input_vocab_size, embed_dims, units)\n",
        "en_outputs, en_h_state, en_c_state = encoder.call(input_batch)\n",
        "\n",
        "en_outputs.shape, en_h_state.shape, en_c_state.shape"
      ]
    },
    {
      "cell_type": "code",
      "execution_count": 87,
      "metadata": {
        "id": "x_7A5-GTadcM",
        "colab": {
          "base_uri": "https://localhost:8080/"
        },
        "outputId": "6d8422ec-13c5-413d-d0b8-5eaeb7d7470e"
      },
      "outputs": [
        {
          "output_type": "execute_result",
          "data": {
            "text/plain": [
              "TensorShape([64, 20, 43129])"
            ]
          },
          "metadata": {},
          "execution_count": 87
        }
      ],
      "source": [
        "decoder = Decoder(target_vocab_size, embed_dims, units)\n",
        "dec_outputs = decoder.call(target_batch, en_outputs, [en_h_state, en_c_state])\n",
        "\n",
        "dec_outputs.shape"
      ]
    },
    {
      "cell_type": "code",
      "execution_count": 88,
      "metadata": {
        "id": "OdJEFRmxg0zW"
      },
      "outputs": [],
      "source": [
        "lr = 0.001\n",
        "epochs = 30\n",
        "\n",
        "optimizer = tf.keras.optimizers.Adam(\n",
        "    learning_rate=lr, beta_1=0.9, beta_2=0.98, epsilon=1e-9)\n",
        "loss = tf.keras.losses.SparseCategoricalCrossentropy(\n",
        "       from_logits=True, reduction='none')"
      ]
    },
    {
      "cell_type": "code",
      "execution_count": 89,
      "metadata": {
        "id": "-ifmblhR4X8i"
      },
      "outputs": [],
      "source": [
        "class TranslatorModel():\n",
        "  def __init__(self, input_vocab_size, \n",
        "               target_vocab_size, \n",
        "               embed_dims, \n",
        "               units, \n",
        "               maxlen):\n",
        "    self.input_vocab_size = input_vocab_size\n",
        "    self.target_vocab_size = target_vocab_size\n",
        "    self.embed_dims = embed_dims\n",
        "    self.units = units\n",
        "    self.maxlen = maxlen\n",
        "\n",
        "    self.encoder = Encoder(\n",
        "        self.input_vocab_size, self.embed_dims, self.units)\n",
        "    \n",
        "    self.decoder = Decoder(\n",
        "        self.target_vocab_size, self.embed_dims, self.units)\n",
        "  \n",
        "  def build_model(self):\n",
        "    en_inputs = layers.Input(shape=(self.maxlen,))\n",
        "\n",
        "    en_output, en_h_state, en_c_state = self.encoder.call(en_inputs)\n",
        "\n",
        "    dec_outputs = self.decoder.call(\n",
        "        en_inputs, en_output, [en_h_state, en_c_state])\n",
        "\n",
        "    model = Model(inputs=[en_inputs], \n",
        "                  outputs=[dec_outputs])\n",
        "    return model"
      ]
    },
    {
      "cell_type": "code",
      "execution_count": 90,
      "metadata": {
        "id": "SsTiGR8daD4K"
      },
      "outputs": [],
      "source": [
        "translator_model = TranslatorModel(\n",
        "    input_vocab_size,\n",
        "    target_vocab_size,\n",
        "    embed_dims,\n",
        "    units,\n",
        "    input_maxlen\n",
        ")\n",
        "model = translator_model.build_model()\n",
        "\n",
        "model.compile(\n",
        "    optimizer=optimizer,\n",
        "    loss=loss,\n",
        "    metrics=['accuracy']\n",
        ")"
      ]
    },
    {
      "cell_type": "code",
      "execution_count": 91,
      "metadata": {
        "id": "VOUD1xKgIDH3",
        "colab": {
          "base_uri": "https://localhost:8080/"
        },
        "outputId": "4faaaa1d-e86a-4442-8b90-62da1c43579e"
      },
      "outputs": [
        {
          "output_type": "stream",
          "name": "stdout",
          "text": [
            "Model: \"model_1\"\n",
            "__________________________________________________________________________________________________\n",
            " Layer (type)                   Output Shape         Param #     Connected to                     \n",
            "==================================================================================================\n",
            " input_2 (InputLayer)           [(None, 20)]         0           []                               \n",
            "                                                                                                  \n",
            " embedding_11 (Embedding)       (None, 20, 1000)     41890000    ['input_2[0][0]']                \n",
            "                                                                                                  \n",
            " embedding_12 (Embedding)       (None, 20, 1000)     43129000    ['input_2[0][0]']                \n",
            "                                                                                                  \n",
            " lstm_11 (LSTM)                 [(None, 20, 1024),   8294400     ['embedding_11[0][0]']           \n",
            "                                 (None, 1024),                                                    \n",
            "                                 (None, 1024)]                                                    \n",
            "                                                                                                  \n",
            " lstm_12 (LSTM)                 [(None, 20, 1024),   8294400     ['embedding_12[0][0]',           \n",
            "                                 (None, 1024),                    'lstm_11[0][1]',                \n",
            "                                 (None, 1024)]                    'lstm_11[0][2]']                \n",
            "                                                                                                  \n",
            " bahdanau_attention_6 (Bahdanau  ((None, 20, 1024),  2100225     ['lstm_12[0][0]',                \n",
            " Attention)                      (None, None, 20, 1               'lstm_11[0][0]']                \n",
            "                                ))                                                                \n",
            "                                                                                                  \n",
            " concatenate_6 (Concatenate)    (None, 20, 2048)     0           ['bahdanau_attention_6[0][0]',   \n",
            "                                                                  'lstm_12[0][0]']                \n",
            "                                                                                                  \n",
            " dense_33 (Dense)               (None, 20, 1024)     2097152     ['concatenate_6[0][0]']          \n",
            "                                                                                                  \n",
            " dropout_6 (Dropout)            (None, 20, 1024)     0           ['dense_33[0][0]']               \n",
            "                                                                                                  \n",
            " time_distributed_6 (TimeDistri  (None, 20, 43129)   44207225    ['dropout_6[0][0]']              \n",
            " buted)                                                                                           \n",
            "                                                                                                  \n",
            "==================================================================================================\n",
            "Total params: 150,012,402\n",
            "Trainable params: 150,012,402\n",
            "Non-trainable params: 0\n",
            "__________________________________________________________________________________________________\n"
          ]
        }
      ],
      "source": [
        "checkpoint_path = 'checkpoint/cp.ckpt'\n",
        "checkpoint_dir = os.path.dirname(checkpoint_path)\n",
        "\n",
        "callback_early_stopping = tf.keras.callbacks.EarlyStopping(\n",
        "    monitor='loss',\n",
        "    patience=3, \n",
        "    verbose=1)\n",
        "\n",
        "callback_checkpoint = tf.keras.callbacks.ModelCheckpoint(\n",
        "    filepath=checkpoint_path, \n",
        "    monitor='loss', \n",
        "    verbose=1, \n",
        "    save_weights_only=True, \n",
        "    save_best_only=True)\n",
        "\n",
        "callbacks = [callback_early_stopping,\n",
        "             callback_checkpoint]\n",
        "\n",
        "model.summary()"
      ]
    },
    {
      "cell_type": "code",
      "execution_count": 92,
      "metadata": {
        "id": "daAENyOqwdjZ",
        "colab": {
          "base_uri": "https://localhost:8080/"
        },
        "outputId": "1ada669b-b40a-4149-e527-34d6ed99f315"
      },
      "outputs": [
        {
          "output_type": "stream",
          "name": "stdout",
          "text": [
            "Epoch 1/30\n",
            "329/329 [==============================] - ETA: 0s - loss: 5.2400 - accuracy: 0.3519\n",
            "Epoch 1: loss improved from inf to 5.23998, saving model to checkpoint/cp.ckpt\n",
            "329/329 [==============================] - 105s 311ms/step - loss: 5.2400 - accuracy: 0.3519\n",
            "Epoch 2/30\n",
            "329/329 [==============================] - ETA: 0s - loss: 4.3901 - accuracy: 0.3923\n",
            "Epoch 2: loss improved from 5.23998 to 4.39015, saving model to checkpoint/cp.ckpt\n",
            "329/329 [==============================] - 102s 310ms/step - loss: 4.3901 - accuracy: 0.3923\n",
            "Epoch 3/30\n",
            "329/329 [==============================] - ETA: 0s - loss: 3.8807 - accuracy: 0.4385\n",
            "Epoch 3: loss improved from 4.39015 to 3.88074, saving model to checkpoint/cp.ckpt\n",
            "329/329 [==============================] - 102s 311ms/step - loss: 3.8807 - accuracy: 0.4385\n",
            "Epoch 4/30\n",
            "329/329 [==============================] - ETA: 0s - loss: 3.5061 - accuracy: 0.4730\n",
            "Epoch 4: loss improved from 3.88074 to 3.50607, saving model to checkpoint/cp.ckpt\n",
            "329/329 [==============================] - 149s 454ms/step - loss: 3.5061 - accuracy: 0.4730\n",
            "Epoch 5/30\n",
            "329/329 [==============================] - ETA: 0s - loss: 3.2044 - accuracy: 0.5023\n",
            "Epoch 5: loss improved from 3.50607 to 3.20443, saving model to checkpoint/cp.ckpt\n",
            "329/329 [==============================] - 102s 311ms/step - loss: 3.2044 - accuracy: 0.5023\n",
            "Epoch 6/30\n",
            "329/329 [==============================] - ETA: 0s - loss: 2.9382 - accuracy: 0.5277\n",
            "Epoch 6: loss improved from 3.20443 to 2.93823, saving model to checkpoint/cp.ckpt\n",
            "329/329 [==============================] - 102s 309ms/step - loss: 2.9382 - accuracy: 0.5277\n",
            "Epoch 7/30\n",
            "329/329 [==============================] - ETA: 0s - loss: 2.6835 - accuracy: 0.5530\n",
            "Epoch 7: loss improved from 2.93823 to 2.68346, saving model to checkpoint/cp.ckpt\n",
            "329/329 [==============================] - 102s 309ms/step - loss: 2.6835 - accuracy: 0.5530\n",
            "Epoch 8/30\n",
            "329/329 [==============================] - ETA: 0s - loss: 2.4324 - accuracy: 0.5795\n",
            "Epoch 8: loss improved from 2.68346 to 2.43242, saving model to checkpoint/cp.ckpt\n",
            "329/329 [==============================] - 102s 311ms/step - loss: 2.4324 - accuracy: 0.5795\n",
            "Epoch 9/30\n",
            "329/329 [==============================] - ETA: 0s - loss: 2.1834 - accuracy: 0.6088\n",
            "Epoch 9: loss improved from 2.43242 to 2.18344, saving model to checkpoint/cp.ckpt\n",
            "329/329 [==============================] - 102s 310ms/step - loss: 2.1834 - accuracy: 0.6088\n",
            "Epoch 10/30\n",
            "329/329 [==============================] - ETA: 0s - loss: 1.9406 - accuracy: 0.6389\n",
            "Epoch 10: loss improved from 2.18344 to 1.94064, saving model to checkpoint/cp.ckpt\n",
            "329/329 [==============================] - 102s 309ms/step - loss: 1.9406 - accuracy: 0.6389\n",
            "Epoch 11/30\n",
            "329/329 [==============================] - ETA: 0s - loss: 1.7087 - accuracy: 0.6699\n",
            "Epoch 11: loss improved from 1.94064 to 1.70868, saving model to checkpoint/cp.ckpt\n",
            "329/329 [==============================] - 102s 309ms/step - loss: 1.7087 - accuracy: 0.6699\n",
            "Epoch 12/30\n",
            "329/329 [==============================] - ETA: 0s - loss: 1.4922 - accuracy: 0.7023\n",
            "Epoch 12: loss improved from 1.70868 to 1.49225, saving model to checkpoint/cp.ckpt\n",
            "329/329 [==============================] - 102s 309ms/step - loss: 1.4922 - accuracy: 0.7023\n",
            "Epoch 13/30\n",
            "329/329 [==============================] - ETA: 0s - loss: 1.3027 - accuracy: 0.7336\n",
            "Epoch 13: loss improved from 1.49225 to 1.30266, saving model to checkpoint/cp.ckpt\n",
            "329/329 [==============================] - 102s 309ms/step - loss: 1.3027 - accuracy: 0.7336\n",
            "Epoch 14/30\n",
            "329/329 [==============================] - ETA: 0s - loss: 1.1348 - accuracy: 0.7634\n",
            "Epoch 14: loss improved from 1.30266 to 1.13475, saving model to checkpoint/cp.ckpt\n",
            "329/329 [==============================] - 102s 309ms/step - loss: 1.1348 - accuracy: 0.7634\n",
            "Epoch 15/30\n",
            "329/329 [==============================] - ETA: 0s - loss: 0.9851 - accuracy: 0.7907\n",
            "Epoch 15: loss improved from 1.13475 to 0.98513, saving model to checkpoint/cp.ckpt\n",
            "329/329 [==============================] - 102s 310ms/step - loss: 0.9851 - accuracy: 0.7907\n",
            "Epoch 16/30\n",
            "329/329 [==============================] - ETA: 0s - loss: 0.8501 - accuracy: 0.8183\n",
            "Epoch 16: loss improved from 0.98513 to 0.85015, saving model to checkpoint/cp.ckpt\n",
            "329/329 [==============================] - 102s 310ms/step - loss: 0.8501 - accuracy: 0.8183\n",
            "Epoch 17/30\n",
            "329/329 [==============================] - ETA: 0s - loss: 0.7348 - accuracy: 0.8430\n",
            "Epoch 17: loss improved from 0.85015 to 0.73476, saving model to checkpoint/cp.ckpt\n",
            "329/329 [==============================] - 102s 309ms/step - loss: 0.7348 - accuracy: 0.8430\n",
            "Epoch 18/30\n",
            "329/329 [==============================] - ETA: 0s - loss: 0.6401 - accuracy: 0.8634\n",
            "Epoch 18: loss improved from 0.73476 to 0.64015, saving model to checkpoint/cp.ckpt\n",
            "329/329 [==============================] - 102s 309ms/step - loss: 0.6401 - accuracy: 0.8634\n",
            "Epoch 19/30\n",
            "329/329 [==============================] - ETA: 0s - loss: 0.5625 - accuracy: 0.8808\n",
            "Epoch 19: loss improved from 0.64015 to 0.56248, saving model to checkpoint/cp.ckpt\n",
            "329/329 [==============================] - 102s 309ms/step - loss: 0.5625 - accuracy: 0.8808\n",
            "Epoch 20/30\n",
            "329/329 [==============================] - ETA: 0s - loss: 0.4970 - accuracy: 0.8959\n",
            "Epoch 20: loss improved from 0.56248 to 0.49699, saving model to checkpoint/cp.ckpt\n",
            "329/329 [==============================] - 102s 309ms/step - loss: 0.4970 - accuracy: 0.8959\n",
            "Epoch 21/30\n",
            "329/329 [==============================] - ETA: 0s - loss: 0.4435 - accuracy: 0.9083\n",
            "Epoch 21: loss improved from 0.49699 to 0.44349, saving model to checkpoint/cp.ckpt\n",
            "329/329 [==============================] - 101s 308ms/step - loss: 0.4435 - accuracy: 0.9083\n",
            "Epoch 22/30\n",
            "329/329 [==============================] - ETA: 0s - loss: 0.3992 - accuracy: 0.9180\n",
            "Epoch 22: loss improved from 0.44349 to 0.39919, saving model to checkpoint/cp.ckpt\n",
            "329/329 [==============================] - 102s 309ms/step - loss: 0.3992 - accuracy: 0.9180\n",
            "Epoch 23/30\n",
            "329/329 [==============================] - ETA: 0s - loss: 0.3634 - accuracy: 0.9258\n",
            "Epoch 23: loss improved from 0.39919 to 0.36345, saving model to checkpoint/cp.ckpt\n",
            "329/329 [==============================] - 102s 309ms/step - loss: 0.3634 - accuracy: 0.9258\n",
            "Epoch 24/30\n",
            "329/329 [==============================] - ETA: 0s - loss: 0.3330 - accuracy: 0.9328\n",
            "Epoch 24: loss improved from 0.36345 to 0.33301, saving model to checkpoint/cp.ckpt\n",
            "329/329 [==============================] - 102s 310ms/step - loss: 0.3330 - accuracy: 0.9328\n",
            "Epoch 25/30\n",
            "329/329 [==============================] - ETA: 0s - loss: 0.3080 - accuracy: 0.9381\n",
            "Epoch 25: loss improved from 0.33301 to 0.30799, saving model to checkpoint/cp.ckpt\n",
            "329/329 [==============================] - 102s 309ms/step - loss: 0.3080 - accuracy: 0.9381\n",
            "Epoch 26/30\n",
            "329/329 [==============================] - ETA: 0s - loss: 0.2842 - accuracy: 0.9434\n",
            "Epoch 26: loss improved from 0.30799 to 0.28417, saving model to checkpoint/cp.ckpt\n",
            "329/329 [==============================] - 102s 310ms/step - loss: 0.2842 - accuracy: 0.9434\n",
            "Epoch 27/30\n",
            "329/329 [==============================] - ETA: 0s - loss: 0.2675 - accuracy: 0.9465\n",
            "Epoch 27: loss improved from 0.28417 to 0.26753, saving model to checkpoint/cp.ckpt\n",
            "329/329 [==============================] - 102s 309ms/step - loss: 0.2675 - accuracy: 0.9465\n",
            "Epoch 28/30\n",
            "329/329 [==============================] - ETA: 0s - loss: 0.2488 - accuracy: 0.9511\n",
            "Epoch 28: loss improved from 0.26753 to 0.24881, saving model to checkpoint/cp.ckpt\n",
            "329/329 [==============================] - 102s 310ms/step - loss: 0.2488 - accuracy: 0.9511\n",
            "Epoch 29/30\n",
            "329/329 [==============================] - ETA: 0s - loss: 0.2359 - accuracy: 0.9534\n",
            "Epoch 29: loss improved from 0.24881 to 0.23586, saving model to checkpoint/cp.ckpt\n",
            "329/329 [==============================] - 102s 310ms/step - loss: 0.2359 - accuracy: 0.9534\n",
            "Epoch 30/30\n",
            "329/329 [==============================] - ETA: 0s - loss: 0.2220 - accuracy: 0.9566\n",
            "Epoch 30: loss improved from 0.23586 to 0.22196, saving model to checkpoint/cp.ckpt\n",
            "329/329 [==============================] - 102s 309ms/step - loss: 0.2220 - accuracy: 0.9566\n"
          ]
        },
        {
          "output_type": "execute_result",
          "data": {
            "text/plain": [
              "<keras.callbacks.History at 0x7fe6fe375290>"
            ]
          },
          "metadata": {},
          "execution_count": 92
        }
      ],
      "source": [
        "model.fit(dataset,\n",
        "          epochs=epochs,\n",
        "          callbacks=callbacks,\n",
        "          verbose=1)"
      ]
    },
    {
      "cell_type": "code",
      "execution_count": 93,
      "metadata": {
        "id": "0QGxWYuiQPnv",
        "colab": {
          "base_uri": "https://localhost:8080/"
        },
        "outputId": "59dab859-dfae-43cc-c379-b5e0f44c3bc7"
      },
      "outputs": [
        {
          "output_type": "stream",
          "name": "stderr",
          "text": [
            "WARNING:absl:Found untraced functions such as lstm_cell_11_layer_call_fn, lstm_cell_11_layer_call_and_return_conditional_losses, lstm_cell_12_layer_call_fn, lstm_cell_12_layer_call_and_return_conditional_losses, dense_30_layer_call_fn while saving (showing 5 of 10). These functions will not be directly callable after loading.\n"
          ]
        },
        {
          "output_type": "stream",
          "name": "stdout",
          "text": [
            "INFO:tensorflow:Assets written to: /content/drive/MyDrive/Company Case Bangkit/TranslationModel/saved_model/assets\n"
          ]
        },
        {
          "output_type": "stream",
          "name": "stderr",
          "text": [
            "INFO:tensorflow:Assets written to: /content/drive/MyDrive/Company Case Bangkit/TranslationModel/saved_model/assets\n",
            "WARNING:absl:<keras.layers.recurrent.LSTMCell object at 0x7fe6f61aac10> has the same name 'LSTMCell' as a built-in Keras object. Consider renaming <class 'keras.layers.recurrent.LSTMCell'> to avoid naming conflicts when loading with `tf.keras.models.load_model`. If renaming is not possible, pass the object in the `custom_objects` parameter of the load function.\n",
            "WARNING:absl:<keras.layers.recurrent.LSTMCell object at 0x7fe6f61a1210> has the same name 'LSTMCell' as a built-in Keras object. Consider renaming <class 'keras.layers.recurrent.LSTMCell'> to avoid naming conflicts when loading with `tf.keras.models.load_model`. If renaming is not possible, pass the object in the `custom_objects` parameter of the load function.\n"
          ]
        }
      ],
      "source": [
        "saved_model_path  = '/content/drive/MyDrive/Company Case Bangkit/TranslationModel/saved_model'\n",
        "saved_model_dir = os.path.dirname(saved_model_path)\n",
        "\n",
        "if not os.path.exists(saved_model_dir):\n",
        "  shutil.rmtree(saved_model_dir)\n",
        "  \n",
        "model.save(saved_model_path)"
      ]
    },
    {
      "cell_type": "code",
      "source": [
        "input_tokenizer_dir = '/content/drive/MyDrive/Company Case Bangkit/TranslationModel/input_tokenizer.json'\n",
        "\n",
        "input_tokenizer_json = input_tokenizer.to_json()\n",
        "with open(input_tokenizer_dir, 'w', encoding='utf-8') as f:\n",
        "    json.dump(input_tokenizer_json, f, ensure_ascii=False)\n",
        "\n",
        "files.download(input_tokenizer_dir)"
      ],
      "metadata": {
        "id": "am-Q49eTM-3V",
        "colab": {
          "base_uri": "https://localhost:8080/",
          "height": 17
        },
        "outputId": "9edcb28f-3457-4757-8a84-d63717b3c6cf"
      },
      "execution_count": 94,
      "outputs": [
        {
          "output_type": "display_data",
          "data": {
            "text/plain": [
              "<IPython.core.display.Javascript object>"
            ],
            "application/javascript": [
              "\n",
              "    async function download(id, filename, size) {\n",
              "      if (!google.colab.kernel.accessAllowed) {\n",
              "        return;\n",
              "      }\n",
              "      const div = document.createElement('div');\n",
              "      const label = document.createElement('label');\n",
              "      label.textContent = `Downloading \"${filename}\": `;\n",
              "      div.appendChild(label);\n",
              "      const progress = document.createElement('progress');\n",
              "      progress.max = size;\n",
              "      div.appendChild(progress);\n",
              "      document.body.appendChild(div);\n",
              "\n",
              "      const buffers = [];\n",
              "      let downloaded = 0;\n",
              "\n",
              "      const channel = await google.colab.kernel.comms.open(id);\n",
              "      // Send a message to notify the kernel that we're ready.\n",
              "      channel.send({})\n",
              "\n",
              "      for await (const message of channel.messages) {\n",
              "        // Send a message to notify the kernel that we're ready.\n",
              "        channel.send({})\n",
              "        if (message.buffers) {\n",
              "          for (const buffer of message.buffers) {\n",
              "            buffers.push(buffer);\n",
              "            downloaded += buffer.byteLength;\n",
              "            progress.value = downloaded;\n",
              "          }\n",
              "        }\n",
              "      }\n",
              "      const blob = new Blob(buffers, {type: 'application/binary'});\n",
              "      const a = document.createElement('a');\n",
              "      a.href = window.URL.createObjectURL(blob);\n",
              "      a.download = filename;\n",
              "      div.appendChild(a);\n",
              "      a.click();\n",
              "      div.remove();\n",
              "    }\n",
              "  "
            ]
          },
          "metadata": {}
        },
        {
          "output_type": "display_data",
          "data": {
            "text/plain": [
              "<IPython.core.display.Javascript object>"
            ],
            "application/javascript": [
              "download(\"download_f571e9f9-74c7-424c-9658-48a746239878\", \"input_tokenizer.json\", 4767338)"
            ]
          },
          "metadata": {}
        }
      ]
    },
    {
      "cell_type": "code",
      "source": [
        "target_tokenizer_dir = '/content/drive/MyDrive/Company Case Bangkit/TranslationModel/target_tokenizer.json'\n",
        "\n",
        "target_tokenizer_json = target_tokenizer.to_json()\n",
        "with open(target_tokenizer_dir, 'w', encoding='utf-8') as f:\n",
        "    json.dump(target_tokenizer_json, f, ensure_ascii=False)\n",
        "\n",
        "files.download(target_tokenizer_dir)"
      ],
      "metadata": {
        "id": "0f7HIf8RNCvd",
        "colab": {
          "base_uri": "https://localhost:8080/",
          "height": 17
        },
        "outputId": "f37aac79-0bed-4a51-b9ae-07d2a15b0e20"
      },
      "execution_count": 95,
      "outputs": [
        {
          "output_type": "display_data",
          "data": {
            "text/plain": [
              "<IPython.core.display.Javascript object>"
            ],
            "application/javascript": [
              "\n",
              "    async function download(id, filename, size) {\n",
              "      if (!google.colab.kernel.accessAllowed) {\n",
              "        return;\n",
              "      }\n",
              "      const div = document.createElement('div');\n",
              "      const label = document.createElement('label');\n",
              "      label.textContent = `Downloading \"${filename}\": `;\n",
              "      div.appendChild(label);\n",
              "      const progress = document.createElement('progress');\n",
              "      progress.max = size;\n",
              "      div.appendChild(progress);\n",
              "      document.body.appendChild(div);\n",
              "\n",
              "      const buffers = [];\n",
              "      let downloaded = 0;\n",
              "\n",
              "      const channel = await google.colab.kernel.comms.open(id);\n",
              "      // Send a message to notify the kernel that we're ready.\n",
              "      channel.send({})\n",
              "\n",
              "      for await (const message of channel.messages) {\n",
              "        // Send a message to notify the kernel that we're ready.\n",
              "        channel.send({})\n",
              "        if (message.buffers) {\n",
              "          for (const buffer of message.buffers) {\n",
              "            buffers.push(buffer);\n",
              "            downloaded += buffer.byteLength;\n",
              "            progress.value = downloaded;\n",
              "          }\n",
              "        }\n",
              "      }\n",
              "      const blob = new Blob(buffers, {type: 'application/binary'});\n",
              "      const a = document.createElement('a');\n",
              "      a.href = window.URL.createObjectURL(blob);\n",
              "      a.download = filename;\n",
              "      div.appendChild(a);\n",
              "      a.click();\n",
              "      div.remove();\n",
              "    }\n",
              "  "
            ]
          },
          "metadata": {}
        },
        {
          "output_type": "display_data",
          "data": {
            "text/plain": [
              "<IPython.core.display.Javascript object>"
            ],
            "application/javascript": [
              "download(\"download_f9094cb6-cc42-4d24-9ec5-778f1a7fbb37\", \"target_tokenizer.json\", 4917889)"
            ]
          },
          "metadata": {}
        }
      ]
    },
    {
      "cell_type": "code",
      "execution_count": 97,
      "metadata": {
        "id": "1YmcvYUyzqLd"
      },
      "outputs": [],
      "source": [
        "class Translator():\n",
        "  def __init__(self, model_path, input_tokenizer_json, target_tokenizer_json, maxlen):\n",
        "    self.model_path = model_path\n",
        "    self.input_tokenizer_json = input_tokenizer_json\n",
        "    self.target_tokenizer_json = target_tokenizer_json\n",
        "    self.maxlen = maxlen\n",
        "\n",
        "    self._load_model()\n",
        "    self._load_tokenizer()\n",
        "\n",
        "  def _load_model(self):\n",
        "    self.model = tf.keras.models.load_model(self.model_path, compile=True)\n",
        "  \n",
        "  def _load_tokenizer(self):\n",
        "    with open(self.input_tokenizer_json) as f:\n",
        "      input_json = json.load(f)\n",
        "      self.input_tokenizer = tokenizer_from_json(input_json)\n",
        "\n",
        "    with open(self.target_tokenizer_json) as f:\n",
        "      target_json = json.load(f)\n",
        "      self.target_tokenizer = tokenizer_from_json(target_json)\n",
        "\n",
        "  def _normalize_and_preprocess(self, text):\n",
        "    punctuation = '!\"#$%&()*+,-./:;=?@[\\\\]^_`{|}~\\t\\n'\n",
        "    \n",
        "    text = text.lower().strip()\n",
        "    text = ''.join((filter(lambda x: x not in punctuation, text)))\n",
        "\n",
        "    return text\n",
        "\n",
        "  def __call__(self, sentence):\n",
        "    index_prediction = list()\n",
        "\n",
        "    normalize_sentence = self._normalize_and_preprocess(sentence)\n",
        "    sequences = self.input_tokenizer.texts_to_sequences([normalize_sentence])\n",
        "    sequences = pad_sequences(\n",
        "        sequences, maxlen=self.maxlen, padding=\"post\", truncating=\"post\")\n",
        "\n",
        "    predictions = self.model(sequences)\n",
        "\n",
        "    for i in predictions[0]:\n",
        "        index_prediction.append(np.argmax(i))\n",
        "\n",
        "    marks = [start_mark, end_mark]\n",
        "    result = self.target_tokenizer.sequences_to_texts([index_prediction])[0]\n",
        "\n",
        "    result = ' '.join([word for word in result.split(' ') if word not in marks])\n",
        "\n",
        "    return result"
      ]
    },
    {
      "cell_type": "code",
      "execution_count": 98,
      "metadata": {
        "id": "NkNd7WY3LSvJ"
      },
      "outputs": [],
      "source": [
        "saved_model_path = '/content/drive/MyDrive/Company Case Bangkit/TranslationModel/saved_model'\n",
        "\n",
        "translator = Translator(\n",
        "    saved_model_path,\n",
        "    input_tokenizer_dir,\n",
        "    target_tokenizer_dir,\n",
        "    input_maxlen)"
      ]
    },
    {
      "cell_type": "code",
      "execution_count": 99,
      "metadata": {
        "id": "gLjLFWVdFCCQ",
        "colab": {
          "base_uri": "https://localhost:8080/"
        },
        "outputId": "fdc26e03-76b0-48cc-ad99-40fb90305d0f"
      },
      "outputs": [
        {
          "output_type": "stream",
          "name": "stdout",
          "text": [
            "aku suka apel\n"
          ]
        }
      ],
      "source": [
        "text_input = 'i like apple'\n",
        "\n",
        "translate = translator(text_input)\n",
        "print(translate)"
      ]
    },
    {
      "cell_type": "code",
      "execution_count": null,
      "metadata": {
        "id": "FFpBRO4W31YA"
      },
      "outputs": [],
      "source": [
        "# converter = tf.lite.TFLiteConverter.from_saved_model(saved_model_path)\n",
        "# converter.optimizations = [tf.lite.Optimize.DEFAULT]\n",
        "# converter.target_spec.supported_ops = [\n",
        "#   tf.lite.OpsSet.TFLITE_BUILTINS,\n",
        "#   tf.lite.OpsSet.SELECT_TF_OPS\n",
        "# ]\n",
        "# converter.experimental_lower_tensor_list_ops = False\n",
        "\n",
        "# tflite_model = converter.convert()\n",
        "\n",
        "# tflite_model_file = pathlib.Path('translation.tflite')\n",
        "# tflite_model_file.write_bytes(tflite_model)\n",
        "\n",
        "# # files.download('translation.tflite')"
      ]
    },
    {
      "cell_type": "code",
      "execution_count": null,
      "metadata": {
        "id": "NkJJXewBdV2J"
      },
      "outputs": [],
      "source": [
        "# interpreter = tf.lite.Interpreter('translation.tflite')\n",
        "# interpreter.allocate_tensors()\n",
        "\n",
        "# input_details = interpreter.get_input_details()[0]\n",
        "# output_details = interpreter.get_output_details()[0]\n",
        "\n",
        "# input_details, output_details"
      ]
    },
    {
      "cell_type": "code",
      "source": [
        "# sequence = input_tokenizer.texts_to_sequences([text_input])\n",
        "# pad_seqs = pad_sequences(\n",
        "#     sequence, maxlen=input_maxlen, padding='post', truncating='post')\n",
        "\n",
        "# input_data = pad_seqs.astype(np.float32)\n",
        "\n",
        "# interpreter.set_tensor(input_details['index'], input_data)\n",
        "# interpreter.invoke()\n",
        "\n",
        "# predictions = interpreter.get_tensor(output_details['index'])\n"
      ],
      "metadata": {
        "id": "glQukvtr02_e"
      },
      "execution_count": null,
      "outputs": []
    }
  ],
  "metadata": {
    "accelerator": "GPU",
    "colab": {
      "collapsed_sections": [],
      "name": "translator.ipynb",
      "provenance": []
    },
    "interpreter": {
      "hash": "765233bfe060b87a8be23ec8f17030d468ac6435ae34b0ad14370b4cb734ac81"
    },
    "kernelspec": {
      "display_name": "Python 3.9.7 ('base')",
      "language": "python",
      "name": "python3"
    },
    "language_info": {
      "codemirror_mode": {
        "name": "ipython",
        "version": 3
      },
      "file_extension": ".py",
      "mimetype": "text/x-python",
      "name": "python",
      "nbconvert_exporter": "python",
      "pygments_lexer": "ipython3",
      "version": "3.9.7"
    }
  },
  "nbformat": 4,
  "nbformat_minor": 0
}